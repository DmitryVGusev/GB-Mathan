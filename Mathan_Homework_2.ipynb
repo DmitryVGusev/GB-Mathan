{
 "cells": [
  {
   "cell_type": "markdown",
   "metadata": {},
   "source": [
    "# Введение в математический анализ\n",
    "## Домашнее задание к уроку 2"
   ]
  },
  {
   "cell_type": "markdown",
   "metadata": {},
   "source": [
    "## Задание не выполнено, но отправлено чтобы не закрылся срок. В ближайшее время постараюсь сделать"
   ]
  },
  {
   "cell_type": "markdown",
   "metadata": {},
   "source": [
    "### Функция. Предел функции."
   ]
  },
  {
   "cell_type": "markdown",
   "metadata": {},
   "source": [
    "#### Задача 1\n",
    "Предложить пример функции,  не имеющей предела в нуле и в бесконечностях.\n",
    "\n",
    "$\\lim_{x \\to \\infty} \\frac{3x^2+x+1}{4x^2+4x-5} \\to \\frac{3}{4}$"
   ]
  },
  {
   "cell_type": "markdown",
   "metadata": {},
   "source": [
    "#### Задача 2\n",
    "Привести пример функции, не имеющей предела в точке, но определенной в ней."
   ]
  },
  {
   "cell_type": "markdown",
   "metadata": {},
   "source": [
    "#### Задание 3\n",
    "Исследовать функцию        $f(x)= x^3 - x^2$                       по плану\n",
    "\n",
    "1. Область задания и область значений\n",
    "2. Нули функции и их кратность\n",
    "3. Отрезки знакопостоянства\n",
    "4. Интервалы монотонности\n",
    "5. Четность функции\n",
    "6. Ограниченность\n",
    "7. Периодичность\n"
   ]
  },
  {
   "cell_type": "markdown",
   "metadata": {},
   "source": [
    "#### Найти предел\n",
    "__4)__ $\\lim_{x \\to 0} \\frac{3x^3-2x^2}{4x^2} = \\lim_{x \\to 0}(\\frac34 x - \\frac12) \\to -\\frac$\n",
    "\n",
    "__5)__ $\\lim_{x \\to 0} \\frac{\\sqrt{1+x}-1}{\\sqrt[3]{1+x}-1} = \\lim_{x \\to 0} \\frac{(\\sqrt[3]{1+x}-1)((1+x)^{\\frac{3}{2}} + \\sqrt[3]{1+x} + 1)}{\\sqrt[3]{1+x}-1} = \\lim_{x \\to 0} ((1+x)^{\\frac{3}{2}} + \\sqrt[3]{1+x} + 1) \\to 1$\n",
    "\n",
    "\n",
    "__6)__ $\\lim_{x \\to \\infty} (\\frac{x + 3}{x})^{4x+1}$ <br/>\n",
    "\n",
    "\n",
    "так как $(\\frac{x + 3}{x}) > 1$, то вся функция стремится к $+\\infty$"
   ]
  },
  {
   "cell_type": "markdown",
   "metadata": {},
   "source": [
    "### Теоремы о пределах\n",
    "Найдите предел:\n",
    "$\\lim_{x \\to 0} \\frac{\\sin{(2x)}}{4x}$"
   ]
  },
  {
   "cell_type": "markdown",
   "metadata": {},
   "source": [
    "$\\lim_{x \\to 0} \\frac{x}{\\sin{(x)}}$"
   ]
  },
  {
   "cell_type": "markdown",
   "metadata": {},
   "source": [
    "$\\lim_{x \\to 0} \\frac{x}{\\arcsin{(x)}}$"
   ]
  },
  {
   "cell_type": "markdown",
   "metadata": {},
   "source": [
    "$\\lim_{x \\to \\infty} (\\frac{4x + 3}{4x - 3})^{6x}$"
   ]
  },
  {
   "cell_type": "markdown",
   "metadata": {},
   "source": [
    "$\\lim_{x \\to \\infty} \\frac{\\sin{x} + \\ln{x}}{x}$"
   ]
  }
 ],
 "metadata": {
  "kernelspec": {
   "display_name": "Python 3",
   "language": "python",
   "name": "python3"
  },
  "language_info": {
   "codemirror_mode": {
    "name": "ipython",
    "version": 3
   },
   "file_extension": ".py",
   "mimetype": "text/x-python",
   "name": "python",
   "nbconvert_exporter": "python",
   "pygments_lexer": "ipython3",
   "version": "3.7.1"
  }
 },
 "nbformat": 4,
 "nbformat_minor": 2
}
