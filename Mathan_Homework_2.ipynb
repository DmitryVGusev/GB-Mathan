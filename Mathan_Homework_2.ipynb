{
 "cells": [
  {
   "cell_type": "markdown",
   "metadata": {},
   "source": [
    "# Введение в математический анализ\n",
    "## Домашнее задание к уроку 2"
   ]
  },
  {
   "cell_type": "markdown",
   "metadata": {},
   "source": [
    "## Задание не выполнено, но отправлено чтобы не закрылся срок. В ближайшее время постараюсь сделать"
   ]
  },
  {
   "cell_type": "markdown",
   "metadata": {},
   "source": [
    "### Функция. Предел функции."
   ]
  },
  {
   "cell_type": "markdown",
   "metadata": {},
   "source": [
    "#### Задача 1\n",
    "Предложить пример функции,  не имеющей предела в нуле и в бесконечностях.\n",
    "\n",
    "$\\lim_{x \\to \\infty} \\frac{3x^2+x+1}{4x^2+4x-5} \\to \\frac{3}{4}$"
   ]
  },
  {
   "cell_type": "markdown",
   "metadata": {},
   "source": [
    "#### Задача 2\n",
    "Привести пример функции, не имеющей предела в точке, но определенной в ней."
   ]
  },
  {
   "cell_type": "markdown",
   "metadata": {},
   "source": [
    "#### Задание 3\n",
    "Исследовать функцию        $f(x)= x^3 - x^2$                       по плану"
   ]
  },
  {
   "cell_type": "code",
   "execution_count": 2,
   "metadata": {},
   "outputs": [],
   "source": [
    "import matplotlib.pyplot as plt\n",
    "%matplotlib inline\n",
    "import numpy as np"
   ]
  },
  {
   "cell_type": "code",
   "execution_count": 27,
   "metadata": {},
   "outputs": [
    {
     "data": {
      "text/plain": [
       "<matplotlib.lines.Line2D at 0x7f338f30f940>"
      ]
     },
     "execution_count": 27,
     "metadata": {},
     "output_type": "execute_result"
    },
    {
     "data": {
      "image/png": "[encoded data removed]",
      "text/plain": [
       "<Figure size 432x288 with 1 Axes>"
      ]
     },
     "metadata": {
      "needs_background": "light"
     },
     "output_type": "display_data"
    }
   ],
   "source": [
    "x = np.arange(-1.5,2,0.1)\n",
    "f = lambda x: x**3 - x**2\n",
    "\n",
    "plt.plot(x,f(x));\n",
    "plt.axhline(0, color='black', linestyle='-.')\n",
    "plt.axvline(0, linestyle='--', color='black')\n",
    "plt.axvline(2/3, linestyle='--', color='black')\n",
    "plt.xlim(-1,1.5)\n",
    "plt.ylim(-1,1)"
   ]
  },
  {
   "cell_type": "markdown",
   "metadata": {},
   "source": [
    "__1. Область задания и область значений:__ <br/>\n",
    "Область определения : $D(f) = (- \\infty, \\infty)$ <br/>\n",
    "Область значений: $(- \\infty, \\infty)$\n",
    "\n",
    "\n",
    "__2. Нули функции и их кратность__<br/>\n",
    "$f(x)= x^3 - x^2 = x^2(x-1) => x_1= 0, x_2=1$\n",
    "\n",
    "__3. Отрезки знакопостоянства__<br/>\n",
    "$f(x)<0 , x \\in (-\\infty;0) \\cup (0;1)$<br/>\n",
    "$f(x)>0 , x \\in (1;\\infty)$\n",
    "\n",
    "__4. Интервалы монотонности__<br/>\n",
    "$f'(x)= 3x^2 - 2x= x^2(3x-2)$ <br/>\n",
    "область возрастания $x \\in (-\\infty;0) \\cup (\\frac23;\\infty)$<br/>\n",
    "область убывания $x \\in (0;\\frac23)$\n",
    "\n",
    "__5. Четность функции__<br/>\n",
    "Проверим на четность: $f(-x) = -x^3 -x^2 \\neq f(x)$, значит функия не является четной. <br/>\n",
    "Проверим на нечетность: $-f(x) = -x^3 + x^2 \\neq f(-x)$, значит функция не является нечетной.<br/>\n",
    "\n",
    "__6. Ограниченность__\n",
    "\n",
    "__7. Периодичность__"
   ]
  },
  {
   "cell_type": "markdown",
   "metadata": {},
   "source": [
    "#### Найти предел\n",
    "__4)__ $\\lim_{x \\to 0} \\frac{3x^3-2x^2}{4x^2} = \\lim_{x \\to 0}(\\frac34 x - \\frac12) \\to -\\frac{1}{2}$\n",
    "\n",
    "__5)__ $\\lim_{x \\to 0} \\frac{\\sqrt{1+x}-1}{\\sqrt[3]{1+x}-1} = \\lim_{x \\to 0} \\frac{(\\sqrt[3]{1+x}-1)((1+x)^{\\frac{3}{2}} + \\sqrt[3]{1+x} + 1)}{\\sqrt[3]{1+x}-1} = \\lim_{x \\to 0} ((1+x)^{\\frac{3}{2}} + \\sqrt[3]{1+x} + 1) \\to 1$\n",
    "\n",
    "\n",
    "__6)__ $\\lim_{x \\to \\infty} (\\frac{x + 3}{x})^{4x+1} = \n",
    "\\lim_{x \\to \\infty} (1 + \\frac{3}{x})^{4x+1} =\n",
    "\\lim_{x \\to \\infty}  ((1 + \\frac{3}{x})^{x})^{(4+\\frac{1}{x})} =\n",
    "(e^3)^{(4 + \\frac1x)} = e^{12} $"
   ]
  },
  {
   "cell_type": "markdown",
   "metadata": {},
   "source": [
    "### Теоремы о пределах\n",
    "Найдите предел:\n",
    "\n",
    "1. $\\lim_{x \\to 0} \\frac{\\sin{(2x)}}{4x} \\left [ \\frac00 \\right ]\n",
    "\\begin{bmatrix}\n",
    "t = 2x \\\\ t \\to 0 \\\\ x = \\frac{t}{2} \n",
    "\\end{bmatrix} = \\lim_{t \\to 0} \\frac{\\sin{t}}{2t} = \\frac12$"
   ]
  },
  {
   "cell_type": "markdown",
   "metadata": {},
   "source": [
    "2. $\\lim_{x \\to 0} \\frac{x}{\\sin{(x)}} = \\lim_{x \\to 0} (\\frac{\\sin{(x)}}{x})^{-1} = 1^{-1}= 1$"
   ]
  },
  {
   "cell_type": "markdown",
   "metadata": {},
   "source": [
    "3. $\\lim_{x \\to 0} \\frac{x}{\\arcsin{(x)}} = \\lim_{x \\to 0} (\\frac{\\arcsin{(x)}}{x})^{-1} = 1^{-1} = 1$"
   ]
  },
  {
   "cell_type": "markdown",
   "metadata": {},
   "source": [
    "4. $\\lim_{x \\to \\infty} (\\frac{4x + 3}{4x - 3})^{6x} =\n",
    "\\lim_{x \\to \\infty} (1+ \\frac{4x + 3}{4x - 3} - 1)^{6x} =\n",
    "\\lim_{x \\to \\infty} (1+ \\frac{4x + 3 -4x +3}{4x - 3})^{6x} =\n",
    "\\lim_{x \\to \\infty} (1+ \\frac{6}{4x - 3})^{6x} =\n",
    "\\lim_{x \\to \\infty} ((1+ \\frac{6}{4x - 3})^{\\frac{4x - 3}{6}})^{6x\\frac{6}{4x-3}} =\n",
    "\\lim_{x \\to \\infty} e^{\\frac{36x}{4x-3}} =\n",
    "e^{\\lim_{x \\to \\infty} \\frac{36x}{4x-3}} = \n",
    "e^{\\lim_{x \\to \\infty} 9} = e^9\n",
    "$"
   ]
  },
  {
   "cell_type": "markdown",
   "metadata": {},
   "source": [
    "5. $\\lim_{x \\to \\infty} \\frac{\\sin{x} + \\ln{x}}{x}$"
   ]
  }
 ],
 "metadata": {
  "kernelspec": {
   "display_name": "Python 3",
   "language": "python",
   "name": "python3"
  },
  "language_info": {
   "codemirror_mode": {
    "name": "ipython",
    "version": 3
   },
   "file_extension": ".py",
   "mimetype": "text/x-python",
   "name": "python",
   "nbconvert_exporter": "python",
   "pygments_lexer": "ipython3",
   "version": "3.7.1"
  }
 },
 "nbformat": 4,
 "nbformat_minor": 2
}
