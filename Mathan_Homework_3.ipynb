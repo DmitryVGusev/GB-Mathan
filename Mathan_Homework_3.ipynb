{
 "cells": [
  {
   "cell_type": "markdown",
   "metadata": {},
   "source": [
    "# Введение в математический анализ\n",
    "## Домашнее задание к уроку 3"
   ]
  },
  {
   "cell_type": "markdown",
   "metadata": {},
   "source": [
    "## Задание не выполнено, но отправлено чтобы не закрылся срок. В ближайшее время постараюсь сделать"
   ]
  },
  {
   "cell_type": "markdown",
   "metadata": {},
   "source": [
    "### Дифференциальное исчисление\n",
    "#### Найти производную выражения:"
   ]
  },
  {
   "cell_type": "markdown",
   "metadata": {},
   "source": [
    "__1.__ $f(x) = \\sin(x) \\cdot \\cos(x)$ <br/>\n",
    "$f^{'}(x)= \\sin(x)\\cdot(\\cos(x))' + (\\sin(x))'\\cdot\\cos(x) = - \\sin^2{x} + \\cos^2{x} = \\cos^2{x} - \\sin^2{x}$"
   ]
  },
  {
   "cell_type": "markdown",
   "metadata": {},
   "source": [
    "__2.__ $f(x) = \\ln{(2x+1)^3}$ <br/>\n",
    "$f'(x) = \\frac{1}{(2x-1)^3} \\cdot 2(2x-1)^2 \\cdot 2 = \\frac{4}{2x-1}$"
   ]
  },
  {
   "cell_type": "markdown",
   "metadata": {},
   "source": [
    "__3.__ $f(x) =\\sqrt{\\sin^2{(\\ln{(x^3)})}}$ <br/>\n",
    "$f'(x) = \\frac{1}{2\\sqrt{\\sin^2{(\\ln{(x^3)})}}} \\cdot 2\\sin{(\\ln{(x^3)})} \\cdot \\cos{(\\ln{(x^3)})} \\cdot \\frac{1}{x^3} \\cdot 3x^2 = \\frac{3\\cos{(\\ln{(x^3)})}}{x} $"
   ]
  },
  {
   "cell_type": "markdown",
   "metadata": {},
   "source": [
    "__4.__ $f(x) = \\frac{x^4}{\\ln{(x)}}$ <br/>\n",
    "$f'(x) = \\frac{4x^3\\ln{x} - x^3}{\\ln^2{(x)}} = x^3\\frac{4\\ln(x) - 1}{\\ln^2{(x)}} = x^3(\\frac{4}{\\ln{(x)}} - \\frac{1}{\\ln^2{(x)}})$"
   ]
  },
  {
   "cell_type": "markdown",
   "metadata": {},
   "source": [
    "__5. Найти выражение производной функции и ее значение в точке.__ <br/>\n",
    "$f(x) = \\cos{(x^2+3x)}, x_0 = \\sqrt{\\pi}$\n",
    "\n",
    "$f'(x) = -\\sin{(x^2 + 3x)} \\cdot (2x + 3)$\n",
    "\n",
    "$f'(\\sqrt{\\pi}) = - \\sin{(\\pi + 3 \\sqrt\\pi)} \\cdot (2\\sqrt\\pi +3) = \\sin{(3 \\sqrt\\pi)} \\cdot (2\\sqrt\\pi +3)$"
   ]
  },
  {
   "cell_type": "markdown",
   "metadata": {},
   "source": [
    "__6. Найти выражение производной функции и ее значение в точке.__ <br/>\n",
    "$f(x) = \\frac{x^3 - x^2 - x -1}{1 + 2x + 3x^2 - 4x^3}, x_0 = 0$\n",
    "\n",
    "$f'(x) = \\frac{(3x^2-2x-1)(1+2x+3x^2-4x^3) - (x^3-x^2-x-1)(2+6x-12x^2)}{(1+2x+3x^2-4x^3)^2}$\n",
    "\n",
    "$f'(0)= \\frac {(-1)(1) - (-1)(2)}{1^2} = 1$"
   ]
  },
  {
   "cell_type": "markdown",
   "metadata": {},
   "source": [
    "__7. Найти угол наклона касательной к графику функции в точке.__ <br/>\n",
    "$f(x) = \\sqrt{3x} \\cdot \\ln{x}, x_0 = 1$\n",
    "\n",
    "$f'(x) = \\sqrt3(\\frac{\\ln{x}}{2\\sqrt{x}} + \\frac{\\sqrt{x}}{x}) = \\sqrt3(\\frac{\\ln{x}}{2\\sqrt{x}} + \\frac{1}{\\sqrt{x}})$\n",
    "\n",
    "$tg (\\alpha)(1) = f'(1) = \\sqrt{3} => \\alpha = 60^{\\circ}$"
   ]
  },
  {
   "cell_type": "markdown",
   "metadata": {},
   "source": [
    "### Ряды"
   ]
  },
  {
   "cell_type": "markdown",
   "metadata": {},
   "source": [
    "__1. Исследовать ряд на сходимость, используя признак д’Аламбера__ <br/>\n",
    "$\\sum_{n=1}^{\\infty} \\frac{n^n}{(n!)^2}$"
   ]
  },
  {
   "cell_type": "markdown",
   "metadata": {},
   "source": [
    "$\\lim_{n \\to \\infty} \\frac{a_{n+1}}{a_n} = \\frac{\\frac{(n+1)^{n+1}}{((n+1)!)^2}}{\\frac{n^n}{(n!)^2}} = \n",
    "\\frac{ \\frac{(n+1)^{n+1}}{(n+1)^2(n!)^2} }{\\frac{n^n}{(n!)^2}} = n^{-n}(n+1)^{n-1} = 0$ <br/>\n",
    "значит ряд сходится"
   ]
  },
  {
   "cell_type": "markdown",
   "metadata": {},
   "source": [
    "__2. Исследовать ряд на сходимость, используя радикальный признак Коши__ <br/>\n",
    "$\\sum_{n=1}^{\\infty} \\frac{n}{2^n}$"
   ]
  },
  {
   "cell_type": "markdown",
   "metadata": {},
   "source": [
    "__3. Исследовать ряд на сходимость, используя признак Лейбница__ <br/>\n",
    "$\\sum_{n=1}^{\\infty} \\frac{(-1)^n}{n+\\ln{n}}$"
   ]
  },
  {
   "cell_type": "markdown",
   "metadata": {},
   "source": [
    "__4. Исследовать ряд на сходимость, используя признак Раабе__ <br/>\n",
    "$\\sum_{n=1}^{\\infty} \\frac{3^n}{2^n}$"
   ]
  },
  {
   "cell_type": "markdown",
   "metadata": {},
   "source": [
    "__5. Разложить функцию по Тейлору в единице__ <br/>\n",
    "$f(x) = \\ln{(16x^2)}$"
   ]
  },
  {
   "cell_type": "markdown",
   "metadata": {},
   "source": [
    "#### Задания 6,7\n",
    "$f(x) = x^2$\n",
    "6. *разложить функцию в ряд Фурье по косинусам на отрезке $x \\in [-2;0]$\n",
    "7. *построить график функции и ее разложения "
   ]
  },
  {
   "cell_type": "code",
   "execution_count": null,
   "metadata": {},
   "outputs": [],
   "source": []
  }
 ],
 "metadata": {
  "kernelspec": {
   "display_name": "Python 3",
   "language": "python",
   "name": "python3"
  },
  "language_info": {
   "codemirror_mode": {
    "name": "ipython",
    "version": 3
   },
   "file_extension": ".py",
   "mimetype": "text/x-python",
   "name": "python",
   "nbconvert_exporter": "python",
   "pygments_lexer": "ipython3",
   "version": "3.7.1"
  }
 },
 "nbformat": 4,
 "nbformat_minor": 2
}
