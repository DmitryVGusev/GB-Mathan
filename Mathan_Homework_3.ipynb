{
 "cells": [
  {
   "cell_type": "markdown",
   "metadata": {},
   "source": [
    "# Введение в математический анализ\n",
    "## Домашнее задание к уроку 3"
   ]
  },
  {
   "cell_type": "markdown",
   "metadata": {},
   "source": [
    "### Дифференциальное исчисление\n",
    "#### Найти производную выражения:"
   ]
  },
  {
   "cell_type": "markdown",
   "metadata": {},
   "source": [
    "__1.__ $\\sin(x) \\cdot \\cos(x)$\n",
    "\n",
    "__2.__ $\\ln{(2x+1)^3}$\n",
    "\n",
    "__3.__ $\\sqrt{\\sin^2{(\\ln{(x^3)})}}$\n",
    "\n",
    "__4.__ $\\frac{x^4}{\\ln{(x)}}$"
   ]
  },
  {
   "cell_type": "markdown",
   "metadata": {},
   "source": [
    "__5. Найти выражение производной функции и ее значение в точке.__ <br/>\n",
    "$f(x) = \\cos{(x^2+3x)}, x_0 = \\sqrt{\\pi}$"
   ]
  },
  {
   "cell_type": "markdown",
   "metadata": {},
   "source": [
    "__6. Найти выражение производной функции и ее значение в точке.__ <br/>\n",
    "$f(x) = \\frac{x^3 - x^2 - x -1}{1 + 2x + 3x^2 - 4x^3}, x_0 = 0$"
   ]
  },
  {
   "cell_type": "markdown",
   "metadata": {},
   "source": [
    "__7. Найти угол наклона касательной к графику функции в точке.__ <br/>\n",
    "$f(x) = \\sqrt{3x} \\cdot \\ln{x}, x_0 = 1$"
   ]
  },
  {
   "cell_type": "markdown",
   "metadata": {},
   "source": [
    "### Ряды"
   ]
  },
  {
   "cell_type": "markdown",
   "metadata": {},
   "source": [
    "__1. Исследовать ряд на сходимость, используя признак д’Аламбера__ <br/>\n",
    "$\\sum_{n=1}^{\\infty} \\frac{n^n}{(n!)^2}$"
   ]
  },
  {
   "cell_type": "markdown",
   "metadata": {},
   "source": [
    "__2. Исследовать ряд на сходимость, используя радикальный признак Коши__ <br/>\n",
    "$\\sum_{n=1}^{\\infty} \\frac{n}{2^n}$"
   ]
  },
  {
   "cell_type": "markdown",
   "metadata": {},
   "source": [
    "__3. Исследовать ряд на сходимость, используя признак Лейбница__ <br/>\n",
    "$\\sum_{n=1}^{\\infty} \\frac{(-1)^n}{n+\\ln{n}}$"
   ]
  },
  {
   "cell_type": "markdown",
   "metadata": {},
   "source": [
    "__4. Исследовать ряд на сходимость, используя признак Раабе__ <br/>\n",
    "$\\sum_{n=1}^{\\infty} \\frac{3^n}{2^n}$"
   ]
  },
  {
   "cell_type": "markdown",
   "metadata": {},
   "source": [
    "__5. Разложить функцию по Тейлору в единице__ <br/>\n",
    "$f(x) = \\ln{(16x^2)}$"
   ]
  },
  {
   "cell_type": "markdown",
   "metadata": {},
   "source": [
    "#### Задания 6,7\n",
    "$f(x) = x^2$\n",
    "6. *разложить функцию в ряд Фурье по косинусам на отрезке $x \\in [-2;0]$\n",
    "7. *построить график функции и ее разложения "
   ]
  },
  {
   "cell_type": "code",
   "execution_count": null,
   "metadata": {},
   "outputs": [],
   "source": []
  }
 ],
 "metadata": {
  "kernelspec": {
   "display_name": "Python 3",
   "language": "python",
   "name": "python3"
  },
  "language_info": {
   "codemirror_mode": {
    "name": "ipython",
    "version": 3
   },
   "file_extension": ".py",
   "mimetype": "text/x-python",
   "name": "python",
   "nbconvert_exporter": "python",
   "pygments_lexer": "ipython3",
   "version": "3.7.1"
  }
 },
 "nbformat": 4,
 "nbformat_minor": 2
}
