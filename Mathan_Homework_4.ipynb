{
 "cells": [
  {
   "cell_type": "markdown",
   "metadata": {},
   "source": [
    "# Введение в математический анализ\n",
    "## Домашнее задание к уроку 3\n",
    "### Интегральное исчисление"
   ]
  },
  {
   "cell_type": "markdown",
   "metadata": {},
   "source": [
    "#### Найти неопределенный интеграл:"
   ]
  },
  {
   "cell_type": "markdown",
   "metadata": {},
   "source": [
    "__1.__ $\\int(2x^2 - 2x -1 + \\sin{x} - \\cos{x} + \\ln{x} + e^x)dx $\n",
    "\n",
    "\n",
    "$F(x)= \\frac{2}{3}x^3 - x^2 - x - \\cos{x} - \\sin{x} + x\\ln(x) - x + e^x + C$"
   ]
  },
  {
   "cell_type": "markdown",
   "metadata": {},
   "source": [
    "__2.__ \n",
    "$\\int(2x + 6xz^2 - 5x^2y - 3 \\ln{z})dx$\n",
    "\n",
    "$\n",
    "F(x) = x^2 + 3x^2z^2 - \\frac{5}{3}x^3y - 3x\\ln{z} + C\n",
    "$"
   ]
  },
  {
   "cell_type": "markdown",
   "metadata": {},
   "source": [
    "#### Вычислить определенный интеграл"
   ]
  },
  {
   "cell_type": "markdown",
   "metadata": {},
   "source": [
    "__3.__ \n",
    "$ \\int_{0}^{\\pi} 3x^2 \\sin{(2x)dx}$ "
   ]
  },
  {
   "cell_type": "markdown",
   "metadata": {},
   "source": [
    "$  3(\\int x^2 \\sin{(2x)dx})  = \n",
    "\\begin{vmatrix}\n",
    "u = x^2 \\\\ \n",
    "du = 2xdx\\\\ \n",
    "dv = \\sin{(2x)}dx\\\\ \n",
    "v = \\int\\sin{(2x)dx} = -\\frac{cos(2x)}{2}\n",
    "\\end{vmatrix}\n",
    "= uv - \\int v du \n",
    "= 3(-\\frac{\\cos{(2x)}x^2}{2} - \\int \\frac{-\\cos{(2x)}}{2}2xdx) = 3(\\int \\cos{(2x)}xdx - \\frac{\\cos{(2x)}x^2}{2})\n",
    "$"
   ]
  },
  {
   "cell_type": "markdown",
   "metadata": {},
   "source": [
    "$\n",
    "\\int x \\cos{(2x)}dx = \n",
    "\\begin{vmatrix}\n",
    "u = x \\\\ \n",
    "du = dx\\\\ \n",
    "dv = \\cos{(2x)}dx\\\\ \n",
    "v = \\int\\cos{(2x)dx} = \\frac{\\sin(2x)}{2}\n",
    "\\end{vmatrix}\n",
    "= uv - \\int v du \n",
    "= x\\frac{\\sin(2x)}{2} - \\int \\frac{\\sin(2x)}{2} dx = x\\frac{\\sin(2x)}{2} + \\frac{\\cos{(2x)}}{4} + C$ =>"
   ]
  },
  {
   "cell_type": "markdown",
   "metadata": {},
   "source": [
    "$\n",
    "=>\n",
    "\\int_{0}^{\\pi} 3x^2 \\sin{(2x)dx} =\n",
    "3(\\int \\cos{(2x)}xdx - \\frac{\\cos{(2x)}x^2}{2}) =\n",
    "3(x \\frac{\\sin{(2x)}}{2} + \\frac{\\cos{(2x)}}{4} - \\frac{\\cos{(2x)}x^2}{2})|^{\\pi}_{0} = \n",
    "3(0 + \\frac{1}{4} - \\frac{\\pi^2}{2}) - 3(0+0+ \\frac{1}{4}) = - \\frac{3}{2}\\pi^2\n",
    "$"
   ]
  },
  {
   "cell_type": "markdown",
   "metadata": {},
   "source": [
    "#### Найти неопределенный интеграл:"
   ]
  },
  {
   "cell_type": "markdown",
   "metadata": {},
   "source": [
    "__4.__ \n",
    "$ \\int \\frac{1}{\\sqrt{x+1}}dx $"
   ]
  },
  {
   "cell_type": "markdown",
   "metadata": {},
   "source": [
    "$\n",
    "F(x) = \\int \\frac{1}{\\sqrt{x+1}}dx = \\int (x+1)^{-\\frac{1}{2}}dx =  \\int (x+1)^{-\\frac{1}{2}}d(x+1) = \n",
    "2(x+1)^{\\frac{1}{2}} + C\n",
    "$"
   ]
  },
  {
   "cell_type": "markdown",
   "metadata": {},
   "source": [
    "#### Классифицировать ДУ и найти его решение:"
   ]
  },
  {
   "cell_type": "markdown",
   "metadata": {},
   "source": [
    "__5.__\n",
    "$(4x^2 + \\frac{1}{2}y^2 -6y)dx + (2y^3 + xy - 6x)dy = 0$"
   ]
  },
  {
   "cell_type": "markdown",
   "metadata": {},
   "source": [
    "$\n",
    "\\frac{\\partial P(x,y)}{\\partial y} = y-6 , \n",
    "\\frac{\\partial Q(x,y)}{\\partial x} = y-6\n",
    "$"
   ]
  },
  {
   "cell_type": "markdown",
   "metadata": {},
   "source": [
    "Данное уравнение является простейшим дифференциальным уравнением первого порядка в полныйх дифференциалах"
   ]
  },
  {
   "cell_type": "markdown",
   "metadata": {},
   "source": [
    "$\n",
    "\\frac{\\partial F(x,y)}{\\partial x} = 4x^2 + \\frac{1}{2}y^2 -6y\n",
    "$"
   ]
  },
  {
   "cell_type": "markdown",
   "metadata": {},
   "source": [
    "$\n",
    "\\int \\frac{\\partial F(x,y)}{\\partial x} dx = \\int (4x^2 + \\frac{1}{2}y^2 -6y)dx\n",
    "$"
   ]
  },
  {
   "cell_type": "markdown",
   "metadata": {},
   "source": [
    "$\n",
    "F(x,y) = \\frac{4}{3}x^2 + \\frac{1}{2}y^2x - 6yx +  \\varphi(y)\n",
    "$"
   ]
  },
  {
   "cell_type": "markdown",
   "metadata": {},
   "source": [
    "$\n",
    "\\frac{\\partial F(x,y)}{\\partial y} = yx - 6x +  \\varphi'(y)\n",
    "$"
   ]
  },
  {
   "cell_type": "markdown",
   "metadata": {},
   "source": [
    "$\n",
    "\\frac{\\partial F(x,y)}{\\partial y} = 2y^3 + xy -6x\n",
    "$\n",
    "\n",
    "$\n",
    "yx - 6x + \\varphi'(y) = 2y^3 + xy -6x\n",
    "$\n",
    "\n",
    "$\\varphi'(y) = 2y^3$"
   ]
  },
  {
   "cell_type": "markdown",
   "metadata": {},
   "source": [
    "$\n",
    "\\int \\varphi'(y)dy = \\int 2y^3 dy \\\\\n",
    "\\varphi(y) = \\frac{1}{2}y^4 + C\n",
    "$"
   ]
  },
  {
   "cell_type": "markdown",
   "metadata": {},
   "source": [
    "$F(x,y) = \\frac{4}{3}x^3 + \\frac{1}{2}y^2x - 6yx + \\frac{1}{2}y^4 + C$"
   ]
  },
  {
   "cell_type": "markdown",
   "metadata": {},
   "source": [
    "__6.__\n",
    "$ y' + y = x^2y^3$"
   ]
  },
  {
   "cell_type": "code",
   "execution_count": null,
   "metadata": {},
   "outputs": [],
   "source": []
  }
 ],
 "metadata": {
  "kernelspec": {
   "display_name": "Python 3",
   "language": "python",
   "name": "python3"
  },
  "language_info": {
   "codemirror_mode": {
    "name": "ipython",
    "version": 3
   },
   "file_extension": ".py",
   "mimetype": "text/x-python",
   "name": "python",
   "nbconvert_exporter": "python",
   "pygments_lexer": "ipython3",
   "version": "3.7.1"
  }
 },
 "nbformat": 4,
 "nbformat_minor": 2
}
