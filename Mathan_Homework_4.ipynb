{
 "cells": [
  {
   "cell_type": "markdown",
   "metadata": {},
   "source": [
    "# Введение в математический анализ\n",
    "## Домашнее задание к уроку 3\n",
    "### Интегральное исчисление"
   ]
  },
  {
   "cell_type": "markdown",
   "metadata": {},
   "source": [
    "#### Найти неопределенный интеграл:"
   ]
  },
  {
   "cell_type": "markdown",
   "metadata": {},
   "source": [
    "__1.__ $\\int(2x^2 - 2x -1 + \\sin{x} - \\cos{x} + \\ln{x} + e^x)dx $\n",
    "\n",
    "\n",
    "$F(x)= \\frac{2}{3}x^3 - x^2 - x - \\cos{x} - \\sin{x} + x\\ln(x) - x + e^x + C$"
   ]
  },
  {
   "cell_type": "markdown",
   "metadata": {},
   "source": [
    "__2.__ \n",
    "$\\int(2x + 6xz^2 - 5x^2y - 3 \\ln{z})dx$\n",
    "\n",
    "$\n",
    "F(x) = x^2 + 3x^2z^2 - \\frac{5}{3}x^3y - 3x\\ln{z} + C\n",
    "$"
   ]
  },
  {
   "cell_type": "markdown",
   "metadata": {},
   "source": [
    "#### Вычислить определенный интеграл"
   ]
  },
  {
   "cell_type": "markdown",
   "metadata": {},
   "source": [
    "__3.__ \n",
    "$ \\int_{0}^{\\pi} 3x^2 \\sin{(2x)dx}$ "
   ]
  },
  {
   "cell_type": "markdown",
   "metadata": {},
   "source": [
    "#### Найти неопределенный интеграл:"
   ]
  },
  {
   "cell_type": "markdown",
   "metadata": {},
   "source": [
    "__4.__ \n",
    "$ \\int \\frac{1}{\\sqrt{x+1}}dx $"
   ]
  },
  {
   "cell_type": "markdown",
   "metadata": {},
   "source": [
    "#### Классифицировать ДУ и найти его решение:"
   ]
  },
  {
   "cell_type": "markdown",
   "metadata": {},
   "source": [
    "__5.__\n",
    "$(4x^2 + \\frac{1}{2}y^2 -6y)dx + (2y^3 + xy - 6x)dy = 0$"
   ]
  },
  {
   "cell_type": "markdown",
   "metadata": {},
   "source": [
    "__6.__\n",
    "$ y' + y = x^2y^3$"
   ]
  },
  {
   "cell_type": "code",
   "execution_count": null,
   "metadata": {},
   "outputs": [],
   "source": []
  }
 ],
 "metadata": {
  "kernelspec": {
   "display_name": "Python 3",
   "language": "python",
   "name": "python3"
  },
  "language_info": {
   "codemirror_mode": {
    "name": "ipython",
    "version": 3
   },
   "file_extension": ".py",
   "mimetype": "text/x-python",
   "name": "python",
   "nbconvert_exporter": "python",
   "pygments_lexer": "ipython3",
   "version": "3.7.1"
  }
 },
 "nbformat": 4,
 "nbformat_minor": 2
}
